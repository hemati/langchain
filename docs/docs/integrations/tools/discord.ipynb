{
 "cells": [
  {
   "metadata": {},
   "cell_type": "raw",
   "source": [
    "---\n",
    "sidebar_label: Discord\n",
    "---"
   ],
   "id": "10238e62-3465-4973-9279-606cbb7ccf16"
  },
  {
   "metadata": {},
   "cell_type": "markdown",
   "source": [
    "# Discord\n",
    "\n",
    "This notebook provides a quick overview for getting started with Discord tooling in [langchain_discord](/docs/integrations/tools/). For more details on each tool and configuration, see the docstrings in your repository or relevant doc pages.\n",
    "\n",
    "## Overview\n",
    "\n",
    "### Integration details\n",
    "\n",
    "| Class                                | Package                                                                 | Serializable | [JS support](https://js.langchain.com/docs/integrations/tools/langchain_discord) |                                             Package latest                                              |\n",
    "| :---                                 |:------------------------------------------------------------------------| :---:        | :---:                                                                           |:-------------------------------------------------------------------------------------------------------:|\n",
    "| `DiscordReadMessages`, `DiscordSendMessage` | [langchain-discord-shikenso](https://github.com/Shikenso-Analytics/langchain-discord) | N/A          | TBD                                                                             | ![PyPI - Version](https://img.shields.io/pypi/v/langchain-discord-shikenso?style=flat-square&label=%20) |\n",
    "\n",
    "### Tool features\n",
    "\n",
    "- **`DiscordReadMessages`**: Reads messages from a specified channel.\n",
    "- **`DiscordSendMessage`**: Sends messages to a specified channel.\n",
    "\n",
    "## Setup\n",
    "\n",
    "The integration is provided by the `langchain-discord-shikenso` package. Install it as follows:"
   ],
   "id": "a6f91f20"
  },
  {
   "metadata": {},
   "cell_type": "code",
   "outputs": [],
   "execution_count": null,
   "source": "%pip install --quiet -U langchain-discord-shikenso",
   "id": "f85b4089"
  },
  {
   "metadata": {},
   "cell_type": "markdown",
   "source": [
    "### Credentials\n",
    "\n",
    "This integration requires you to set `DISCORD_BOT_TOKEN` as an environment variable to authenticate with the Discord API.\n",
    "\n",
    "```bash\n",
    "export DISCORD_BOT_TOKEN=\"your-bot-token\"\n",
    "```"
   ],
   "id": "b15e9266"
  },
  {
   "metadata": {},
   "cell_type": "code",
   "outputs": [],
   "execution_count": null,
   "source": [
    "import getpass\n",
    "import os\n",
    "\n",
    "# Example prompt to set your token if not already set:\n",
    "# if not os.environ.get(\"DISCORD_BOT_TOKEN\"):\n",
    "#     os.environ[\"DISCORD_BOT_TOKEN\"] = getpass.getpass(\"DISCORD Bot Token:\\n\")"
   ],
   "id": "e0b178a2-8816-40ca-b57c-ccdd86dde9c9"
  },
  {
   "metadata": {},
   "cell_type": "markdown",
   "source": "You can optionally set up [LangSmith](https://smith.langchain.com/) for tracing or observability:",
   "id": "bc5ab717-fd27-4c59-b912-bdd099541478"
  },
  {
   "metadata": {},
   "cell_type": "code",
   "outputs": [],
   "execution_count": null,
   "source": [
    "# os.environ[\"LANGCHAIN_TRACING_V2\"] = \"true\"\n",
    "# os.environ[\"LANGCHAIN_API_KEY\"] = getpass.getpass()"
   ],
   "id": "a6c2f136-6367-4f1f-825d-ae741e1bf281"
  },
  {
   "metadata": {},
   "cell_type": "markdown",
   "source": [
    "## Instantiation\n",
    "\n",
    "Below is an example showing how to instantiate the Discord tools in `langchain_discord`. Adjust as needed for your specific usage."
   ],
   "id": "1c97218f-f366-479d-8bf7-fe9f2f6df73f"
  },
  {
   "metadata": {},
   "cell_type": "code",
   "outputs": [],
   "execution_count": null,
   "source": [
    "from langchain_discord.tools.discord_read_messages import DiscordReadMessages\n",
    "from langchain_discord.tools.discord_send_messages import DiscordSendMessage\n",
    "\n",
    "read_tool = DiscordReadMessages()\n",
    "send_tool = DiscordSendMessage()\n",
    "\n",
    "# Example usage:\n",
    "# response = read_tool({\"channel_id\": \"1234567890\", \"limit\": 5})\n",
    "# print(response)\n",
    "# \n",
    "# send_result = send_tool({\"message\": \"Hello from notebook!\", \"channel_id\": \"1234567890\"})\n",
    "# print(send_result)"
   ],
   "id": "8b3ddfe9-ca79-494c-a7ab-1f56d9407a64"
  },
  {
   "metadata": {},
   "cell_type": "markdown",
   "source": [
    "## Invocation\n",
    "\n",
    "### Direct invocation with args\n",
    "\n",
    "Below is a simple example of calling the tool with keyword arguments in a dictionary."
   ],
   "id": "74147a1a"
  },
  {
   "metadata": {},
   "cell_type": "code",
   "outputs": [],
   "execution_count": null,
   "source": [
    "invocation_args = {\n",
    "    \"channel_id\": \"1234567890\",\n",
    "    \"limit\": 3\n",
    "}\n",
    "response = read_tool(invocation_args)\n",
    "response"
   ],
   "id": "65310a8b-eb0c-4d9e-a618-4f4abe2414fc"
  },
  {
   "metadata": {},
   "cell_type": "markdown",
   "source": [
    "### Invocation with ToolCall\n",
    "\n",
    "If you have a model-generated `ToolCall`, pass it to `tool.invoke()` in the format shown below."
   ],
   "id": "d6e73897"
  },
  {
   "metadata": {},
   "cell_type": "code",
   "outputs": [],
   "execution_count": null,
   "source": [
    "tool_call = {\n",
    "    \"args\": {\n",
    "        \"channel_id\": \"1234567890\",\n",
    "        \"limit\": 2\n",
    "    },\n",
    "    \"id\": \"1\",\n",
    "    \"name\": read_tool.name,\n",
    "    \"type\": \"tool_call\"\n",
    "}\n",
    "\n",
    "tool.invoke(tool_call)"
   ],
   "id": "f90e33a7"
  },
  {
   "metadata": {},
   "cell_type": "markdown",
   "source": [
    "## API reference\n",
    "\n",
    "See the docstrings in:\n",
    "- [discord_read_messages.py](https://github.com/Shikenso-Analytics/langchain-discord/blob/main/langchain_discord/tools/discord_read_messages.py)\n",
    "- [discord_send_messages.py](https://github.com/Shikenso-Analytics/langchain-discord/blob/main/langchain_discord/tools/discord_send_messages.py)\n",
    "- [toolkits.py](https://github.com/Shikenso-Analytics/langchain-discord/blob/main/langchain_discord/toolkits.py)\n",
    "\n",
    "for usage details, parameters, and advanced configurations."
   ],
   "id": "4c01b53ad063d2c"
  }
 ],
 "metadata": {
  "kernelspec": {
   "display_name": "poetry-venv-311",
   "language": "python",
   "name": "poetry-venv-311"
  },
  "language_info": {
   "codemirror_mode": {
    "name": "ipython",
    "version": 3
   },
   "file_extension": ".py",
   "mimetype": "text/x-python",
   "name": "python",
   "nbconvert_exporter": "python",
   "pygments_lexer": "ipython3",
   "version": "3.11.9"
  }
 },
 "nbformat": 4,
 "nbformat_minor": 5
}
